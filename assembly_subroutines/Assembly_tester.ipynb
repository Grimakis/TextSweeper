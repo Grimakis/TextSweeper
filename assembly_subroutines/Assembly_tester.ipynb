{
 "cells": [
  {
   "cell_type": "code",
   "execution_count": 30,
   "metadata": {},
   "outputs": [],
   "source": [
    "my_assembled_copy_pasta = \"\"\"8\t21 c0 fc\tLXI H, FCC0H ;Start of ALTLCD\n",
    "9\t01 40 01\tLXI B, 320D ;Screen memory is 320 bytes\n",
    "10\t7E\tLO: MOV A,M ; Char to be printed -> A\n",
    "11\tCD 44 4b\tCALL 4B44H ; Print A to LCD (ROM Routine)\n",
    "12\t23\tINX H ; Increment Memory Address (source)\n",
    "13\t0B\tDCX B ; Decrement Counter (2-byte)\n",
    "14\t78\tMOV A,B\n",
    "15\tB1\tORA C ; ZF set if B(A) and C are zero\n",
    "16\tC2 06 F7\tJNZ LO ; <F706h> if assembled at <F6FFh>\n",
    "17\tC9\tRET\n",
    "\"\"\"\n"
   ]
  },
  {
   "cell_type": "code",
   "execution_count": 31,
   "metadata": {},
   "outputs": [],
   "source": [
    "my_code = ' '.join([line.split('\\t')[1] for line in my_assembled_copy_pasta.splitlines()]).split(' ')\n",
    "my_code = [hx for hx in my_code if hx != '']\n"
   ]
  },
  {
   "cell_type": "code",
   "execution_count": 32,
   "metadata": {},
   "outputs": [
    {
     "data": {
      "text/plain": [
       "[('21', 0, 0.0),\n",
       " ('c0', 1),\n",
       " ('fc', 2, 1.0),\n",
       " ('01', 3),\n",
       " ('40', 4, 2.0),\n",
       " ('01', 5),\n",
       " ('7E', 6, 3.0),\n",
       " ('CD', 7),\n",
       " ('44', 8, 4.0),\n",
       " ('4b', 9),\n",
       " ('23', 10, 5.0),\n",
       " ('0B', 11),\n",
       " ('78', 12, 6.0),\n",
       " ('B1', 13),\n",
       " ('C2', 14, 7.0),\n",
       " ('06', 15),\n",
       " ('F7', 16, 8.0),\n",
       " ('C9', 17)]"
      ]
     },
     "execution_count": 32,
     "metadata": {},
     "output_type": "execute_result"
    }
   ],
   "source": [
    "[(byte,idx,idx/2) if (idx%2 == 0) else (byte,idx) for idx,byte in enumerate(my_code)] "
   ]
  },
  {
   "cell_type": "code",
   "execution_count": 33,
   "metadata": {},
   "outputs": [
    {
     "data": {
      "text/plain": [
       "['33',\n",
       " '192',\n",
       " '252',\n",
       " '1',\n",
       " '64',\n",
       " '1',\n",
       " '126',\n",
       " '205',\n",
       " '68',\n",
       " '75',\n",
       " '35',\n",
       " '11',\n",
       " '120',\n",
       " '177',\n",
       " '194',\n",
       " '6',\n",
       " '247',\n",
       " '201']"
      ]
     },
     "execution_count": 33,
     "metadata": {},
     "output_type": "execute_result"
    }
   ],
   "source": [
    "dec_code = [str(int(f\"0x{x}\", 16)) for x in my_code]\n",
    "dec_code"
   ]
  },
  {
   "cell_type": "code",
   "execution_count": 34,
   "metadata": {},
   "outputs": [
    {
     "data": {
      "text/plain": [
       "'DATA 33,192,252,1,64,1,126,205,68,75,35,11,120,177,194,6,247,201'"
      ]
     },
     "execution_count": 34,
     "metadata": {},
     "output_type": "execute_result"
    }
   ],
   "source": [
    "\"DATA \"+(','.join(dec_code))"
   ]
  },
  {
   "cell_type": "code",
   "execution_count": 35,
   "metadata": {},
   "outputs": [
    {
     "data": {
      "text/plain": [
       "18"
      ]
     },
     "execution_count": 35,
     "metadata": {},
     "output_type": "execute_result"
    }
   ],
   "source": [
    "len(dec_code)"
   ]
  },
  {
   "cell_type": "code",
   "execution_count": null,
   "metadata": {},
   "outputs": [],
   "source": []
  }
 ],
 "metadata": {
  "kernelspec": {
   "display_name": "Python 3",
   "language": "python",
   "name": "python3"
  },
  "language_info": {
   "codemirror_mode": {
    "name": "ipython",
    "version": 3
   },
   "file_extension": ".py",
   "mimetype": "text/x-python",
   "name": "python",
   "nbconvert_exporter": "python",
   "pygments_lexer": "ipython3",
   "version": "3.11.2"
  }
 },
 "nbformat": 4,
 "nbformat_minor": 2
}
