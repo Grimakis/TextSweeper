{
 "cells": [
  {
   "cell_type": "code",
   "execution_count": 1,
   "metadata": {},
   "outputs": [],
   "source": [
    "my_assembled_copy_pasta = \"\"\"26\t0\tNOP;START\n",
    "27\t11 00 20\tLXI D, 2000H ; I% memory location, needs' to be assigned\n",
    "28\tD5\tPUSH D ; we'll get that back later'\n",
    "29\t1E FF\tMVI E, 0H\n",
    "30\t47\tMOV B,A ; B contains the index we want\n",
    "31\t\t\n",
    "32\t57\tLO: MOV D, A ; stored adjusted index\n",
    "33\t3E 01\tMVI A, 1\n",
    "34\t4E\tMOV C, M ; x value\n",
    "35\t23\tINX H\n",
    "36\t23\tINX H\n",
    "37\t\t\n",
    "38\t81\tADD C ; If C is negative, this will set the carry flag\n",
    "39\t7A\tMOV A, D ; retrieve adjusted index\n",
    "40\tCE 00\tACI 0 ; Adjust the index, only if we were negative\n",
    "41\t57\tMOV D, A ; store adjusted index\n",
    "42\t\t\n",
    "43\t0C\tINR C\n",
    "44\t79\tMOV A, C\n",
    "45\tC6 ff\tADI FFH; if we are negative, we DONT set the carry flag\n",
    "46\t7B\tMOV A, E ; load the counter\n",
    "47\tCE 00\tACI 0 ; increment the counter if we we NOT negative -1\n",
    "48\t5F\tMOV E, A ; store the counter\n",
    "49\t\t\n",
    "50\t\t\n",
    "51\tB8\tCMP B\n",
    "52\t7A\tMOV A, D\n",
    "53\tC2 2d 08\tJNZ LO\n",
    "54\tE1\tPOP H\n",
    "55\t72\tMOV M, D\n",
    "56\t76\tHLT\n",
    "\"\"\"\n"
   ]
  },
  {
   "cell_type": "code",
   "execution_count": 2,
   "metadata": {},
   "outputs": [],
   "source": [
    "my_code = ' '.join([line.split('\\t')[1] for line in my_assembled_copy_pasta.splitlines()]).split(' ')\n",
    "my_code = [hx for hx in my_code if hx != '']\n"
   ]
  },
  {
   "cell_type": "code",
   "execution_count": 3,
   "metadata": {},
   "outputs": [
    {
     "data": {
      "text/plain": [
       "[('0', 0, 0.0),\n",
       " ('11', 1),\n",
       " ('00', 2, 1.0),\n",
       " ('20', 3),\n",
       " ('D5', 4, 2.0),\n",
       " ('1E', 5),\n",
       " ('FF', 6, 3.0),\n",
       " ('47', 7),\n",
       " ('57', 8, 4.0),\n",
       " ('3E', 9),\n",
       " ('01', 10, 5.0),\n",
       " ('4E', 11),\n",
       " ('23', 12, 6.0),\n",
       " ('23', 13),\n",
       " ('81', 14, 7.0),\n",
       " ('7A', 15),\n",
       " ('CE', 16, 8.0),\n",
       " ('00', 17),\n",
       " ('57', 18, 9.0),\n",
       " ('0C', 19),\n",
       " ('79', 20, 10.0),\n",
       " ('C6', 21),\n",
       " ('ff', 22, 11.0),\n",
       " ('7B', 23),\n",
       " ('CE', 24, 12.0),\n",
       " ('00', 25),\n",
       " ('5F', 26, 13.0),\n",
       " ('B8', 27),\n",
       " ('7A', 28, 14.0),\n",
       " ('C2', 29),\n",
       " ('2d', 30, 15.0),\n",
       " ('08', 31),\n",
       " ('E1', 32, 16.0),\n",
       " ('72', 33),\n",
       " ('76', 34, 17.0)]"
      ]
     },
     "execution_count": 3,
     "metadata": {},
     "output_type": "execute_result"
    }
   ],
   "source": [
    "[(byte,idx,idx/2) if (idx%2 == 0) else (byte,idx) for idx,byte in enumerate(my_code)] "
   ]
  },
  {
   "cell_type": "code",
   "execution_count": 4,
   "metadata": {},
   "outputs": [
    {
     "data": {
      "text/plain": [
       "['0',\n",
       " '17',\n",
       " '0',\n",
       " '32',\n",
       " '213',\n",
       " '30',\n",
       " '255',\n",
       " '71',\n",
       " '87',\n",
       " '62',\n",
       " '1',\n",
       " '78',\n",
       " '35',\n",
       " '35',\n",
       " '129',\n",
       " '122',\n",
       " '206',\n",
       " '0',\n",
       " '87',\n",
       " '12',\n",
       " '121',\n",
       " '198',\n",
       " '255',\n",
       " '123',\n",
       " '206',\n",
       " '0',\n",
       " '95',\n",
       " '184',\n",
       " '122',\n",
       " '194',\n",
       " '45',\n",
       " '8',\n",
       " '225',\n",
       " '114',\n",
       " '118']"
      ]
     },
     "execution_count": 4,
     "metadata": {},
     "output_type": "execute_result"
    }
   ],
   "source": [
    "dec_code = [str(int(f\"0x{x}\", 16)) for x in my_code]\n",
    "dec_code"
   ]
  },
  {
   "cell_type": "code",
   "execution_count": 5,
   "metadata": {},
   "outputs": [
    {
     "data": {
      "text/plain": [
       "'DATA 0,17,0,32,213,30,255,71,87,62,1,78,35,35,129,122,206,0,87,12,121,198,255,123,206,0,95,184,122,194,45,8,225,114,118'"
      ]
     },
     "execution_count": 5,
     "metadata": {},
     "output_type": "execute_result"
    }
   ],
   "source": [
    "\"DATA \"+(','.join(dec_code))"
   ]
  },
  {
   "cell_type": "code",
   "execution_count": 21,
   "metadata": {},
   "outputs": [
    {
     "data": {
      "text/plain": [
       "35"
      ]
     },
     "execution_count": 21,
     "metadata": {},
     "output_type": "execute_result"
    }
   ],
   "source": [
    "len(dec_code)"
   ]
  },
  {
   "cell_type": "code",
   "execution_count": 22,
   "metadata": {},
   "outputs": [],
   "source": [
    "my_string=\"94,00,70,35,78,35,120,22,1,146,139,119,35,120,22,225,130,120,60,155,119,35,121,22,1,146,139,119,35,121,22,249,130,121,60,155,119,201\""
   ]
  },
  {
   "cell_type": "code",
   "execution_count": 23,
   "metadata": {},
   "outputs": [
    {
     "data": {
      "text/plain": [
       "38"
      ]
     },
     "execution_count": 23,
     "metadata": {},
     "output_type": "execute_result"
    }
   ],
   "source": [
    "len(my_string.split(','))"
   ]
  },
  {
   "cell_type": "code",
   "execution_count": null,
   "metadata": {},
   "outputs": [],
   "source": []
  }
 ],
 "metadata": {
  "kernelspec": {
   "display_name": "Python 3",
   "language": "python",
   "name": "python3"
  },
  "language_info": {
   "codemirror_mode": {
    "name": "ipython",
    "version": 3
   },
   "file_extension": ".py",
   "mimetype": "text/x-python",
   "name": "python",
   "nbconvert_exporter": "python",
   "pygments_lexer": "ipython3",
   "version": "3.7.4"
  }
 },
 "nbformat": 4,
 "nbformat_minor": 2
}
